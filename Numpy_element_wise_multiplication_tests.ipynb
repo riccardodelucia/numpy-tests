{
 "cells": [
  {
   "cell_type": "markdown",
   "metadata": {},
   "source": [
    "# NumPy element-wise multiplication tests"
   ]
  },
  {
   "cell_type": "code",
   "execution_count": 2,
   "metadata": {},
   "outputs": [],
   "source": [
    "import numpy as np"
   ]
  },
  {
   "cell_type": "markdown",
   "metadata": {},
   "source": [
    "## Element wise multiplication"
   ]
  },
  {
   "cell_type": "markdown",
   "metadata": {},
   "source": [
    "### A(2, 2) \n",
    "### b(2,)\n",
    "<div class=\"alert alert-block alert-success\">\n",
    "    <b>Broadcasting OK</b>\n",
    "</div>\n",
    "Nota: il prodotto scalare avrebbe ritornato un vettore (2, 1)"
   ]
  },
  {
   "cell_type": "code",
   "execution_count": 3,
   "metadata": {},
   "outputs": [
    {
     "name": "stdout",
     "output_type": "stream",
     "text": [
      "Shape A: (2, 2)\n",
      "Shape b: (2,)\n",
      "[[2 4]\n",
      " [6 8]]\n",
      "Shape c: (2, 2)\n"
     ]
    }
   ],
   "source": [
    "A = np.array([[1,2], [3,4]])\n",
    "b = np.array([2, 2])\n",
    "\n",
    "print(f'Shape A: {A.shape}')\n",
    "print(f'Shape b: {b.shape}')\n",
    "\n",
    "c = A*b\n",
    "print(c)\n",
    "print(f'Shape c: {c.shape}')"
   ]
  },
  {
   "cell_type": "markdown",
   "metadata": {},
   "source": [
    "### A(2, 2)\n",
    "### b(1, 2)\n",
    "<div class=\"alert alert-block alert-success\">\n",
    "    <b>Broadcasting OK</b> Stesso risultato di sopra <br>\n",
    "    Nota: in questo caso il Broadcasting è come se avesse replicato il vettore riga <b>b</b> su una seconda riga\n",
    "</div>"
   ]
  },
  {
   "cell_type": "code",
   "execution_count": 4,
   "metadata": {},
   "outputs": [
    {
     "name": "stdout",
     "output_type": "stream",
     "text": [
      "Shape A: (2, 2)\n",
      "Shape b: (1, 2)\n",
      "[[2 4]\n",
      " [6 8]]\n",
      "Shape c: (2, 2)\n"
     ]
    }
   ],
   "source": [
    "A = np.array([[1,2], [3,4]])\n",
    "b = np.array([[2, 2]])\n",
    "\n",
    "print(f'Shape A: {A.shape}')\n",
    "print(f'Shape b: {b.shape}')\n",
    "\n",
    "c = A*b\n",
    "print(c)\n",
    "print(f'Shape c: {c.shape}')"
   ]
  },
  {
   "cell_type": "markdown",
   "metadata": {},
   "source": [
    "### A(2, 2)\n",
    "### b(2, 1)\n",
    "<div class=\"alert alert-block alert-success\">\n",
    "    <b>Broadcasting OK</b> Stesso risultato di sopra <br>\n",
    "    Nota: in questo caso il Broadcasting è come se avesse replicato il vettore riga <b>b</b> su una seconda colonna\n",
    "</div>"
   ]
  },
  {
   "cell_type": "code",
   "execution_count": 5,
   "metadata": {},
   "outputs": [
    {
     "name": "stdout",
     "output_type": "stream",
     "text": [
      "Shape A: (2, 2)\n",
      "Shape b: (2, 1)\n",
      "[[2 4]\n",
      " [6 8]]\n",
      "Shape c: (2, 2)\n"
     ]
    }
   ],
   "source": [
    "A = np.array([[1,2], [3,4]])\n",
    "b = np.array([[2],[2]])\n",
    "\n",
    "print(f'Shape A: {A.shape}')\n",
    "print(f'Shape b: {b.shape}')\n",
    "\n",
    "c = A*b\n",
    "print(c)\n",
    "print(f'Shape c: {c.shape}')"
   ]
  },
  {
   "cell_type": "markdown",
   "metadata": {},
   "source": [
    "### A(3, 2)\n",
    "### b(2,)\n",
    "<div class=\"alert alert-block alert-success\">\n",
    "    <b>Broadcasting OK</b>\n",
    "</div>"
   ]
  },
  {
   "cell_type": "code",
   "execution_count": 6,
   "metadata": {},
   "outputs": [
    {
     "name": "stdout",
     "output_type": "stream",
     "text": [
      "Shape A: (3, 2)\n",
      "Shape b: (2,)\n",
      "[[ 2  4]\n",
      " [ 6  8]\n",
      " [10 12]]\n",
      "Shape c: (3, 2)\n"
     ]
    }
   ],
   "source": [
    "A = np.array([[1,2], [3,4], [5, 6]])\n",
    "b = np.array([2, 2])\n",
    "\n",
    "print(f'Shape A: {A.shape}')\n",
    "print(f'Shape b: {b.shape}')\n",
    "\n",
    "C = A*b\n",
    "print(C)\n",
    "print(f'Shape c: {C.shape}')"
   ]
  },
  {
   "cell_type": "markdown",
   "metadata": {},
   "source": [
    "### A(2, 3)\n",
    "### B(2,)\n",
    "<div class=\"alert alert-block alert-danger\">\n",
    "    <b>Broadcasting FALLISCE</b> <br> Non è possibile espandere (replicare) <b>b</b> su alcuna dimensione per ottenere esattamente lo shape di <b>A</b>\n",
    "</div>"
   ]
  },
  {
   "cell_type": "code",
   "execution_count": 7,
   "metadata": {},
   "outputs": [
    {
     "name": "stdout",
     "output_type": "stream",
     "text": [
      "Shape A: (2, 3)\n",
      "Shape b: (2,)\n"
     ]
    },
    {
     "ename": "ValueError",
     "evalue": "operands could not be broadcast together with shapes (2,3) (2,) ",
     "output_type": "error",
     "traceback": [
      "\u001b[0;31m---------------------------------------------------------------------------\u001b[0m",
      "\u001b[0;31mValueError\u001b[0m                                Traceback (most recent call last)",
      "\u001b[0;32m<ipython-input-7-46b65490e06d>\u001b[0m in \u001b[0;36m<module>\u001b[0;34m\u001b[0m\n\u001b[1;32m      5\u001b[0m \u001b[0mprint\u001b[0m\u001b[0;34m(\u001b[0m\u001b[0;34mf'Shape b: {b.shape}'\u001b[0m\u001b[0;34m)\u001b[0m\u001b[0;34m\u001b[0m\u001b[0;34m\u001b[0m\u001b[0m\n\u001b[1;32m      6\u001b[0m \u001b[0;34m\u001b[0m\u001b[0m\n\u001b[0;32m----> 7\u001b[0;31m \u001b[0mc\u001b[0m \u001b[0;34m=\u001b[0m \u001b[0mA\u001b[0m\u001b[0;34m*\u001b[0m\u001b[0mb\u001b[0m\u001b[0;34m\u001b[0m\u001b[0;34m\u001b[0m\u001b[0m\n\u001b[0m\u001b[1;32m      8\u001b[0m \u001b[0mprint\u001b[0m\u001b[0;34m(\u001b[0m\u001b[0mc\u001b[0m\u001b[0;34m)\u001b[0m\u001b[0;34m\u001b[0m\u001b[0;34m\u001b[0m\u001b[0m\n\u001b[1;32m      9\u001b[0m \u001b[0mprint\u001b[0m\u001b[0;34m(\u001b[0m\u001b[0;34mf'Shape c: {c.shape}'\u001b[0m\u001b[0;34m)\u001b[0m\u001b[0;34m\u001b[0m\u001b[0;34m\u001b[0m\u001b[0m\n",
      "\u001b[0;31mValueError\u001b[0m: operands could not be broadcast together with shapes (2,3) (2,) "
     ]
    }
   ],
   "source": [
    "A = np.array([[1, 2, 3], [4, 5, 6]])\n",
    "b = np.array([1, 1])\n",
    "\n",
    "print(f'Shape A: {A.shape}')\n",
    "print(f'Shape b: {b.shape}')\n",
    "\n",
    "c = A*b\n",
    "print(c)\n",
    "print(f'Shape c: {c.shape}')"
   ]
  },
  {
   "cell_type": "markdown",
   "metadata": {},
   "source": [
    "### A(3, 3)\n",
    "### B(3, 3)\n",
    "**Non occorre Broadcasting**"
   ]
  },
  {
   "cell_type": "code",
   "execution_count": 8,
   "metadata": {},
   "outputs": [
    {
     "name": "stdout",
     "output_type": "stream",
     "text": [
      "Shape A: (2, 3)\n",
      "Shape B: (2, 3)\n",
      "[[ 1  4  9]\n",
      " [16 25 36]]\n",
      "Shape C: (2, 3)\n"
     ]
    }
   ],
   "source": [
    "A = np.array([[1, 2, 3], [4, 5, 6]])\n",
    "B = np.array([[1, 2, 3], [4, 5, 6]])\n",
    "\n",
    "print(f'Shape A: {A.shape}')\n",
    "print(f'Shape B: {B.shape}')\n",
    "\n",
    "C = A*B\n",
    "print(C)\n",
    "print(f'Shape C: {C.shape}')"
   ]
  },
  {
   "cell_type": "markdown",
   "metadata": {},
   "source": [
    "### A(2, 3)\n",
    "### B(3, 2)\n",
    "<div class=\"alert alert-block alert-danger\">\n",
    "    <b>Broadcasting FALLISCE</b> <br> Non è possibile espandere (replicare) <b>b</b> su alcuna dimensione per ottenere esattamente lo shape di <b>A</b>\n",
    "</div>"
   ]
  },
  {
   "cell_type": "code",
   "execution_count": 9,
   "metadata": {},
   "outputs": [
    {
     "name": "stdout",
     "output_type": "stream",
     "text": [
      "Shape A: (2, 3)\n",
      "Shape B: (3, 2)\n"
     ]
    },
    {
     "ename": "ValueError",
     "evalue": "operands could not be broadcast together with shapes (2,3) (3,2) ",
     "output_type": "error",
     "traceback": [
      "\u001b[0;31m---------------------------------------------------------------------------\u001b[0m",
      "\u001b[0;31mValueError\u001b[0m                                Traceback (most recent call last)",
      "\u001b[0;32m<ipython-input-9-8debda9ff09d>\u001b[0m in \u001b[0;36m<module>\u001b[0;34m\u001b[0m\n\u001b[1;32m      5\u001b[0m \u001b[0mprint\u001b[0m\u001b[0;34m(\u001b[0m\u001b[0;34mf'Shape B: {B.shape}'\u001b[0m\u001b[0;34m)\u001b[0m\u001b[0;34m\u001b[0m\u001b[0;34m\u001b[0m\u001b[0m\n\u001b[1;32m      6\u001b[0m \u001b[0;34m\u001b[0m\u001b[0m\n\u001b[0;32m----> 7\u001b[0;31m \u001b[0mC\u001b[0m \u001b[0;34m=\u001b[0m \u001b[0mA\u001b[0m\u001b[0;34m*\u001b[0m\u001b[0mB\u001b[0m\u001b[0;34m\u001b[0m\u001b[0;34m\u001b[0m\u001b[0m\n\u001b[0m\u001b[1;32m      8\u001b[0m \u001b[0mprint\u001b[0m\u001b[0;34m(\u001b[0m\u001b[0mC\u001b[0m\u001b[0;34m)\u001b[0m\u001b[0;34m\u001b[0m\u001b[0;34m\u001b[0m\u001b[0m\n\u001b[1;32m      9\u001b[0m \u001b[0mprint\u001b[0m\u001b[0;34m(\u001b[0m\u001b[0;34mf'Shape C: {C.shape}'\u001b[0m\u001b[0;34m)\u001b[0m\u001b[0;34m\u001b[0m\u001b[0;34m\u001b[0m\u001b[0m\n",
      "\u001b[0;31mValueError\u001b[0m: operands could not be broadcast together with shapes (2,3) (3,2) "
     ]
    }
   ],
   "source": [
    "A = np.array([[1, 2, 3], [4, 5, 6]])\n",
    "B = np.array([[1, 2], [3, 4], [5, 6]])\n",
    "\n",
    "print(f'Shape A: {A.shape}')\n",
    "print(f'Shape B: {B.shape}')\n",
    "\n",
    "C = A*B\n",
    "print(C)\n",
    "print(f'Shape C: {C.shape}')"
   ]
  },
  {
   "cell_type": "markdown",
   "metadata": {},
   "source": [
    "### Test caso complesso (4 dimensioni)\n",
    "Obbiettivo: moltiplicare l'intera matrice **P** per ogni valore di **K**.\n",
    "<br>\n",
    "I due test successivi devono verificare se la strategia di calcolo presentata fornisce il risultato sperato"
   ]
  },
  {
   "cell_type": "code",
   "execution_count": 10,
   "metadata": {},
   "outputs": [
    {
     "name": "stdout",
     "output_type": "stream",
     "text": [
      "[  0   1   2   3   4   5   6   7   8   9  10  11  12  13  14  15  16  17\n",
      "  18  19  20  21  22  23  24  25  26  27  28  29  30  31  32  33  34  35\n",
      "  36  37  38  39  40  41  42  43  44  45  46  47  48  49  50  51  52  53\n",
      "  54  55  56  57  58  59  60  61  62  63  64  65  66  67  68  69  70  71\n",
      "  72  73  74  75  76  77  78  79  80  81  82  83  84  85  86  87  88  89\n",
      "  90  91  92  93  94  95  96  97  98  99 100 101 102 103 104 105 106 107\n",
      " 108 109 110 111 112 113 114 115 116 117 118 119 120 121 122 123 124 125\n",
      " 126 127 128 129 130 131 132 133 134 135 136 137 138 139 140 141 142 143\n",
      " 144 145 146 147 148 149 150 151 152 153 154 155 156 157 158 159 160 161\n",
      " 162 163 164 165 166 167 168 169 170 171 172 173 174 175 176 177 178 179\n",
      " 180 181 182 183 184 185 186 187 188 189 190 191 192 193 194 195 196 197\n",
      " 198 199 200 201 202 203 204 205 206 207 208 209 210 211 212 213 214 215\n",
      " 216 217 218 219 220 221 222 223 224 225 226 227 228 229 230 231 232 233\n",
      " 234 235 236 237 238 239 240 241 242 243 244 245 246 247 248 249 250 251\n",
      " 252 253 254 255 256]\n"
     ]
    }
   ],
   "source": [
    "P = np.ones((2, 362, 200))\n",
    "k = np.arange(257)\n",
    "\n",
    "print(f'{k}')"
   ]
  },
  {
   "cell_type": "markdown",
   "metadata": {},
   "source": [
    "#### Test 1\n",
    "<div class=\"alert alert-block alert-success\">\n",
    "    <b>Il test FUNZIONA</b> <br>Broadcasting di <b>K</b> aggiungendo dimensione in fondo a <b>P</b> <br>\n",
    "Obbiettivo: per ogni indice del vettore <b>k</b>, devo ottenere una matrice tridimensionale che replica su tutti i suoi elementi il valore <b>k[i]</b>\n",
    "</div>"
   ]
  },
  {
   "cell_type": "code",
   "execution_count": 37,
   "metadata": {},
   "outputs": [
    {
     "name": "stdout",
     "output_type": "stream",
     "text": [
      "Shape TEST_1: (2, 362, 200, 257)\n",
      "Next array should contain all 0\n",
      "[[[0. 0. 0. ... 0. 0. 0.]\n",
      "  [0. 0. 0. ... 0. 0. 0.]\n",
      "  [0. 0. 0. ... 0. 0. 0.]\n",
      "  ...\n",
      "  [0. 0. 0. ... 0. 0. 0.]\n",
      "  [0. 0. 0. ... 0. 0. 0.]\n",
      "  [0. 0. 0. ... 0. 0. 0.]]\n",
      "\n",
      " [[0. 0. 0. ... 0. 0. 0.]\n",
      "  [0. 0. 0. ... 0. 0. 0.]\n",
      "  [0. 0. 0. ... 0. 0. 0.]\n",
      "  ...\n",
      "  [0. 0. 0. ... 0. 0. 0.]\n",
      "  [0. 0. 0. ... 0. 0. 0.]\n",
      "  [0. 0. 0. ... 0. 0. 0.]]]\n",
      "Next array should contain all 1\n",
      "[[[1. 1. 1. ... 1. 1. 1.]\n",
      "  [1. 1. 1. ... 1. 1. 1.]\n",
      "  [1. 1. 1. ... 1. 1. 1.]\n",
      "  ...\n",
      "  [1. 1. 1. ... 1. 1. 1.]\n",
      "  [1. 1. 1. ... 1. 1. 1.]\n",
      "  [1. 1. 1. ... 1. 1. 1.]]\n",
      "\n",
      " [[1. 1. 1. ... 1. 1. 1.]\n",
      "  [1. 1. 1. ... 1. 1. 1.]\n",
      "  [1. 1. 1. ... 1. 1. 1.]\n",
      "  ...\n",
      "  [1. 1. 1. ... 1. 1. 1.]\n",
      "  [1. 1. 1. ... 1. 1. 1.]\n",
      "  [1. 1. 1. ... 1. 1. 1.]]]\n",
      "Next array should contain all 5\n",
      "[[[5. 5. 5. ... 5. 5. 5.]\n",
      "  [5. 5. 5. ... 5. 5. 5.]\n",
      "  [5. 5. 5. ... 5. 5. 5.]\n",
      "  ...\n",
      "  [5. 5. 5. ... 5. 5. 5.]\n",
      "  [5. 5. 5. ... 5. 5. 5.]\n",
      "  [5. 5. 5. ... 5. 5. 5.]]\n",
      "\n",
      " [[5. 5. 5. ... 5. 5. 5.]\n",
      "  [5. 5. 5. ... 5. 5. 5.]\n",
      "  [5. 5. 5. ... 5. 5. 5.]\n",
      "  ...\n",
      "  [5. 5. 5. ... 5. 5. 5.]\n",
      "  [5. 5. 5. ... 5. 5. 5.]\n",
      "  [5. 5. 5. ... 5. 5. 5.]]]\n"
     ]
    }
   ],
   "source": [
    "TEST_1 = P[..., np.newaxis]*k\n",
    "print(f'Shape TEST_1: {TEST_1.shape}')\n",
    "print(f'Next array should contain all 0')\n",
    "print(TEST_1[..., 0])\n",
    "print(f'Next array should contain all 1')\n",
    "print(TEST_1[..., 1])\n",
    "\n",
    "print(f'Next array should contain all 5')\n",
    "print(TEST_1[..., 5])\n"
   ]
  },
  {
   "cell_type": "markdown",
   "metadata": {},
   "source": [
    "#### Test 2\n",
    "<div class=\"alert alert-block alert-success\">\n",
    "    <b>Il test FUNZIONA</b> <br>Broadcasting di <b>K</b> aggiungendo una nuova dimensione più esterna a <b>P</b>\n",
    "Obbiettivo: per ogni indice del vettore <b>k</b>, devo ottenere una matrice tridimensionale che replica su tutti i suoi elementi il valore <b>k[i]</b>\n",
    "</div>"
   ]
  },
  {
   "cell_type": "code",
   "execution_count": 38,
   "metadata": {},
   "outputs": [
    {
     "name": "stdout",
     "output_type": "stream",
     "text": [
      "Shape TEST_1: (257, 2, 362, 200)\n",
      "Next array should contain all 0\n",
      "[[[0. 0. 0. ... 0. 0. 0.]\n",
      "  [0. 0. 0. ... 0. 0. 0.]\n",
      "  [0. 0. 0. ... 0. 0. 0.]\n",
      "  ...\n",
      "  [0. 0. 0. ... 0. 0. 0.]\n",
      "  [0. 0. 0. ... 0. 0. 0.]\n",
      "  [0. 0. 0. ... 0. 0. 0.]]\n",
      "\n",
      " [[0. 0. 0. ... 0. 0. 0.]\n",
      "  [0. 0. 0. ... 0. 0. 0.]\n",
      "  [0. 0. 0. ... 0. 0. 0.]\n",
      "  ...\n",
      "  [0. 0. 0. ... 0. 0. 0.]\n",
      "  [0. 0. 0. ... 0. 0. 0.]\n",
      "  [0. 0. 0. ... 0. 0. 0.]]]\n",
      "Next array should contain all 1\n",
      "[[[1. 1. 1. ... 1. 1. 1.]\n",
      "  [1. 1. 1. ... 1. 1. 1.]\n",
      "  [1. 1. 1. ... 1. 1. 1.]\n",
      "  ...\n",
      "  [1. 1. 1. ... 1. 1. 1.]\n",
      "  [1. 1. 1. ... 1. 1. 1.]\n",
      "  [1. 1. 1. ... 1. 1. 1.]]\n",
      "\n",
      " [[1. 1. 1. ... 1. 1. 1.]\n",
      "  [1. 1. 1. ... 1. 1. 1.]\n",
      "  [1. 1. 1. ... 1. 1. 1.]\n",
      "  ...\n",
      "  [1. 1. 1. ... 1. 1. 1.]\n",
      "  [1. 1. 1. ... 1. 1. 1.]\n",
      "  [1. 1. 1. ... 1. 1. 1.]]]\n",
      "Next array should contain all 5\n",
      "[[[5. 5. 5. ... 5. 5. 5.]\n",
      "  [5. 5. 5. ... 5. 5. 5.]\n",
      "  [5. 5. 5. ... 5. 5. 5.]\n",
      "  ...\n",
      "  [5. 5. 5. ... 5. 5. 5.]\n",
      "  [5. 5. 5. ... 5. 5. 5.]\n",
      "  [5. 5. 5. ... 5. 5. 5.]]\n",
      "\n",
      " [[5. 5. 5. ... 5. 5. 5.]\n",
      "  [5. 5. 5. ... 5. 5. 5.]\n",
      "  [5. 5. 5. ... 5. 5. 5.]\n",
      "  ...\n",
      "  [5. 5. 5. ... 5. 5. 5.]\n",
      "  [5. 5. 5. ... 5. 5. 5.]\n",
      "  [5. 5. 5. ... 5. 5. 5.]]]\n"
     ]
    }
   ],
   "source": [
    "TEST_2 = P[np. newaxis, ...]*k[:, np.newaxis, np.newaxis, np.newaxis]\n",
    "print(f'Shape TEST_1: {TEST_2.shape}')\n",
    "print(f'Next array should contain all 0')\n",
    "print(TEST_2[0, ...])\n",
    "print(f'Next array should contain all 1')\n",
    "print(TEST_2[1, ...])\n",
    "\n",
    "print(f'Next array should contain all 5')\n",
    "print(TEST_2[5, ...])\n",
    "\n"
   ]
  },
  {
   "cell_type": "markdown",
   "metadata": {},
   "source": [
    "### Test caso complesso (5 dimensioni)\n",
    "Obbiettivo: moltiplicare l'intera matrice P per ogni valore di K.\n",
    "<br>\n",
    "I due test successivi devono verificare se la strategia di calcolo presentata fornisce il risultato sperato"
   ]
  },
  {
   "cell_type": "code",
   "execution_count": 49,
   "metadata": {},
   "outputs": [
    {
     "name": "stdout",
     "output_type": "stream",
     "text": [
      "Shape k: (256, 2)\n",
      "[[   0    0]\n",
      " [   1   10]\n",
      " [   2   20]\n",
      " [   3   30]\n",
      " [   4   40]\n",
      " [   5   50]\n",
      " [   6   60]\n",
      " [   7   70]\n",
      " [   8   80]\n",
      " [   9   90]\n",
      " [  10  100]\n",
      " [  11  110]\n",
      " [  12  120]\n",
      " [  13  130]\n",
      " [  14  140]\n",
      " [  15  150]\n",
      " [  16  160]\n",
      " [  17  170]\n",
      " [  18  180]\n",
      " [  19  190]\n",
      " [  20  200]\n",
      " [  21  210]\n",
      " [  22  220]\n",
      " [  23  230]\n",
      " [  24  240]\n",
      " [  25  250]\n",
      " [  26  260]\n",
      " [  27  270]\n",
      " [  28  280]\n",
      " [  29  290]\n",
      " [  30  300]\n",
      " [  31  310]\n",
      " [  32  320]\n",
      " [  33  330]\n",
      " [  34  340]\n",
      " [  35  350]\n",
      " [  36  360]\n",
      " [  37  370]\n",
      " [  38  380]\n",
      " [  39  390]\n",
      " [  40  400]\n",
      " [  41  410]\n",
      " [  42  420]\n",
      " [  43  430]\n",
      " [  44  440]\n",
      " [  45  450]\n",
      " [  46  460]\n",
      " [  47  470]\n",
      " [  48  480]\n",
      " [  49  490]\n",
      " [  50  500]\n",
      " [  51  510]\n",
      " [  52  520]\n",
      " [  53  530]\n",
      " [  54  540]\n",
      " [  55  550]\n",
      " [  56  560]\n",
      " [  57  570]\n",
      " [  58  580]\n",
      " [  59  590]\n",
      " [  60  600]\n",
      " [  61  610]\n",
      " [  62  620]\n",
      " [  63  630]\n",
      " [  64  640]\n",
      " [  65  650]\n",
      " [  66  660]\n",
      " [  67  670]\n",
      " [  68  680]\n",
      " [  69  690]\n",
      " [  70  700]\n",
      " [  71  710]\n",
      " [  72  720]\n",
      " [  73  730]\n",
      " [  74  740]\n",
      " [  75  750]\n",
      " [  76  760]\n",
      " [  77  770]\n",
      " [  78  780]\n",
      " [  79  790]\n",
      " [  80  800]\n",
      " [  81  810]\n",
      " [  82  820]\n",
      " [  83  830]\n",
      " [  84  840]\n",
      " [  85  850]\n",
      " [  86  860]\n",
      " [  87  870]\n",
      " [  88  880]\n",
      " [  89  890]\n",
      " [  90  900]\n",
      " [  91  910]\n",
      " [  92  920]\n",
      " [  93  930]\n",
      " [  94  940]\n",
      " [  95  950]\n",
      " [  96  960]\n",
      " [  97  970]\n",
      " [  98  980]\n",
      " [  99  990]\n",
      " [ 100 1000]\n",
      " [ 101 1010]\n",
      " [ 102 1020]\n",
      " [ 103 1030]\n",
      " [ 104 1040]\n",
      " [ 105 1050]\n",
      " [ 106 1060]\n",
      " [ 107 1070]\n",
      " [ 108 1080]\n",
      " [ 109 1090]\n",
      " [ 110 1100]\n",
      " [ 111 1110]\n",
      " [ 112 1120]\n",
      " [ 113 1130]\n",
      " [ 114 1140]\n",
      " [ 115 1150]\n",
      " [ 116 1160]\n",
      " [ 117 1170]\n",
      " [ 118 1180]\n",
      " [ 119 1190]\n",
      " [ 120 1200]\n",
      " [ 121 1210]\n",
      " [ 122 1220]\n",
      " [ 123 1230]\n",
      " [ 124 1240]\n",
      " [ 125 1250]\n",
      " [ 126 1260]\n",
      " [ 127 1270]\n",
      " [ 128 1280]\n",
      " [ 129 1290]\n",
      " [ 130 1300]\n",
      " [ 131 1310]\n",
      " [ 132 1320]\n",
      " [ 133 1330]\n",
      " [ 134 1340]\n",
      " [ 135 1350]\n",
      " [ 136 1360]\n",
      " [ 137 1370]\n",
      " [ 138 1380]\n",
      " [ 139 1390]\n",
      " [ 140 1400]\n",
      " [ 141 1410]\n",
      " [ 142 1420]\n",
      " [ 143 1430]\n",
      " [ 144 1440]\n",
      " [ 145 1450]\n",
      " [ 146 1460]\n",
      " [ 147 1470]\n",
      " [ 148 1480]\n",
      " [ 149 1490]\n",
      " [ 150 1500]\n",
      " [ 151 1510]\n",
      " [ 152 1520]\n",
      " [ 153 1530]\n",
      " [ 154 1540]\n",
      " [ 155 1550]\n",
      " [ 156 1560]\n",
      " [ 157 1570]\n",
      " [ 158 1580]\n",
      " [ 159 1590]\n",
      " [ 160 1600]\n",
      " [ 161 1610]\n",
      " [ 162 1620]\n",
      " [ 163 1630]\n",
      " [ 164 1640]\n",
      " [ 165 1650]\n",
      " [ 166 1660]\n",
      " [ 167 1670]\n",
      " [ 168 1680]\n",
      " [ 169 1690]\n",
      " [ 170 1700]\n",
      " [ 171 1710]\n",
      " [ 172 1720]\n",
      " [ 173 1730]\n",
      " [ 174 1740]\n",
      " [ 175 1750]\n",
      " [ 176 1760]\n",
      " [ 177 1770]\n",
      " [ 178 1780]\n",
      " [ 179 1790]\n",
      " [ 180 1800]\n",
      " [ 181 1810]\n",
      " [ 182 1820]\n",
      " [ 183 1830]\n",
      " [ 184 1840]\n",
      " [ 185 1850]\n",
      " [ 186 1860]\n",
      " [ 187 1870]\n",
      " [ 188 1880]\n",
      " [ 189 1890]\n",
      " [ 190 1900]\n",
      " [ 191 1910]\n",
      " [ 192 1920]\n",
      " [ 193 1930]\n",
      " [ 194 1940]\n",
      " [ 195 1950]\n",
      " [ 196 1960]\n",
      " [ 197 1970]\n",
      " [ 198 1980]\n",
      " [ 199 1990]\n",
      " [ 200 2000]\n",
      " [ 201 2010]\n",
      " [ 202 2020]\n",
      " [ 203 2030]\n",
      " [ 204 2040]\n",
      " [ 205 2050]\n",
      " [ 206 2060]\n",
      " [ 207 2070]\n",
      " [ 208 2080]\n",
      " [ 209 2090]\n",
      " [ 210 2100]\n",
      " [ 211 2110]\n",
      " [ 212 2120]\n",
      " [ 213 2130]\n",
      " [ 214 2140]\n",
      " [ 215 2150]\n",
      " [ 216 2160]\n",
      " [ 217 2170]\n",
      " [ 218 2180]\n",
      " [ 219 2190]\n",
      " [ 220 2200]\n",
      " [ 221 2210]\n",
      " [ 222 2220]\n",
      " [ 223 2230]\n",
      " [ 224 2240]\n",
      " [ 225 2250]\n",
      " [ 226 2260]\n",
      " [ 227 2270]\n",
      " [ 228 2280]\n",
      " [ 229 2290]\n",
      " [ 230 2300]\n",
      " [ 231 2310]\n",
      " [ 232 2320]\n",
      " [ 233 2330]\n",
      " [ 234 2340]\n",
      " [ 235 2350]\n",
      " [ 236 2360]\n",
      " [ 237 2370]\n",
      " [ 238 2380]\n",
      " [ 239 2390]\n",
      " [ 240 2400]\n",
      " [ 241 2410]\n",
      " [ 242 2420]\n",
      " [ 243 2430]\n",
      " [ 244 2440]\n",
      " [ 245 2450]\n",
      " [ 246 2460]\n",
      " [ 247 2470]\n",
      " [ 248 2480]\n",
      " [ 249 2490]\n",
      " [ 250 2500]\n",
      " [ 251 2510]\n",
      " [ 252 2520]\n",
      " [ 253 2530]\n",
      " [ 254 2540]\n",
      " [ 255 2550]]\n"
     ]
    }
   ],
   "source": [
    "P = np.ones((2, 362, 200))\n",
    "k = np.stack([np.arange(256), 10*np.arange(256)], axis=1)\n",
    "\n",
    "print(f'Shape k: {k.shape}')\n",
    "print(f'{k}')\n"
   ]
  },
  {
   "cell_type": "markdown",
   "metadata": {},
   "source": [
    "#### Test 1\n",
    "<div class=\"alert alert-block alert-success\">\n",
    "    <b>Il test FUNZIONA</b> <br>Broadcasting di <b>K</b> aggiungendo dimensione in fondo a <b>P</b>\n",
    "Obbiettivo: per <b>j=0</b> (prima colonna di <b>k</b>), il test deve restituire gli stessi risultati di sopra. Per <b>j=1</b> (seconda colonna di <b>k</b>), il test deve restituire gli stessi valori di <b>j=0</b> moltiplicati per 10\n",
    "</div>"
   ]
  },
  {
   "cell_type": "code",
   "execution_count": 52,
   "metadata": {},
   "outputs": [
    {
     "name": "stdout",
     "output_type": "stream",
     "text": [
      "Shape TEST_1: (2, 362, 200, 256, 2)\n",
      "Next array should contain all 0\n",
      "[[[0. 0. 0. ... 0. 0. 0.]\n",
      "  [0. 0. 0. ... 0. 0. 0.]\n",
      "  [0. 0. 0. ... 0. 0. 0.]\n",
      "  ...\n",
      "  [0. 0. 0. ... 0. 0. 0.]\n",
      "  [0. 0. 0. ... 0. 0. 0.]\n",
      "  [0. 0. 0. ... 0. 0. 0.]]\n",
      "\n",
      " [[0. 0. 0. ... 0. 0. 0.]\n",
      "  [0. 0. 0. ... 0. 0. 0.]\n",
      "  [0. 0. 0. ... 0. 0. 0.]\n",
      "  ...\n",
      "  [0. 0. 0. ... 0. 0. 0.]\n",
      "  [0. 0. 0. ... 0. 0. 0.]\n",
      "  [0. 0. 0. ... 0. 0. 0.]]]\n",
      "Next array should contain all 0\n",
      "[[[0. 0. 0. ... 0. 0. 0.]\n",
      "  [0. 0. 0. ... 0. 0. 0.]\n",
      "  [0. 0. 0. ... 0. 0. 0.]\n",
      "  ...\n",
      "  [0. 0. 0. ... 0. 0. 0.]\n",
      "  [0. 0. 0. ... 0. 0. 0.]\n",
      "  [0. 0. 0. ... 0. 0. 0.]]\n",
      "\n",
      " [[0. 0. 0. ... 0. 0. 0.]\n",
      "  [0. 0. 0. ... 0. 0. 0.]\n",
      "  [0. 0. 0. ... 0. 0. 0.]\n",
      "  ...\n",
      "  [0. 0. 0. ... 0. 0. 0.]\n",
      "  [0. 0. 0. ... 0. 0. 0.]\n",
      "  [0. 0. 0. ... 0. 0. 0.]]]\n",
      "Next array should contain all 1\n",
      "[[[1. 1. 1. ... 1. 1. 1.]\n",
      "  [1. 1. 1. ... 1. 1. 1.]\n",
      "  [1. 1. 1. ... 1. 1. 1.]\n",
      "  ...\n",
      "  [1. 1. 1. ... 1. 1. 1.]\n",
      "  [1. 1. 1. ... 1. 1. 1.]\n",
      "  [1. 1. 1. ... 1. 1. 1.]]\n",
      "\n",
      " [[1. 1. 1. ... 1. 1. 1.]\n",
      "  [1. 1. 1. ... 1. 1. 1.]\n",
      "  [1. 1. 1. ... 1. 1. 1.]\n",
      "  ...\n",
      "  [1. 1. 1. ... 1. 1. 1.]\n",
      "  [1. 1. 1. ... 1. 1. 1.]\n",
      "  [1. 1. 1. ... 1. 1. 1.]]]\n",
      "Next array should contain all 10\n",
      "[[[10. 10. 10. ... 10. 10. 10.]\n",
      "  [10. 10. 10. ... 10. 10. 10.]\n",
      "  [10. 10. 10. ... 10. 10. 10.]\n",
      "  ...\n",
      "  [10. 10. 10. ... 10. 10. 10.]\n",
      "  [10. 10. 10. ... 10. 10. 10.]\n",
      "  [10. 10. 10. ... 10. 10. 10.]]\n",
      "\n",
      " [[10. 10. 10. ... 10. 10. 10.]\n",
      "  [10. 10. 10. ... 10. 10. 10.]\n",
      "  [10. 10. 10. ... 10. 10. 10.]\n",
      "  ...\n",
      "  [10. 10. 10. ... 10. 10. 10.]\n",
      "  [10. 10. 10. ... 10. 10. 10.]\n",
      "  [10. 10. 10. ... 10. 10. 10.]]]\n",
      "Next array should contain all 5\n",
      "[[[5. 5. 5. ... 5. 5. 5.]\n",
      "  [5. 5. 5. ... 5. 5. 5.]\n",
      "  [5. 5. 5. ... 5. 5. 5.]\n",
      "  ...\n",
      "  [5. 5. 5. ... 5. 5. 5.]\n",
      "  [5. 5. 5. ... 5. 5. 5.]\n",
      "  [5. 5. 5. ... 5. 5. 5.]]\n",
      "\n",
      " [[5. 5. 5. ... 5. 5. 5.]\n",
      "  [5. 5. 5. ... 5. 5. 5.]\n",
      "  [5. 5. 5. ... 5. 5. 5.]\n",
      "  ...\n",
      "  [5. 5. 5. ... 5. 5. 5.]\n",
      "  [5. 5. 5. ... 5. 5. 5.]\n",
      "  [5. 5. 5. ... 5. 5. 5.]]]\n",
      "Next array should contain all 50\n",
      "[[[50. 50. 50. ... 50. 50. 50.]\n",
      "  [50. 50. 50. ... 50. 50. 50.]\n",
      "  [50. 50. 50. ... 50. 50. 50.]\n",
      "  ...\n",
      "  [50. 50. 50. ... 50. 50. 50.]\n",
      "  [50. 50. 50. ... 50. 50. 50.]\n",
      "  [50. 50. 50. ... 50. 50. 50.]]\n",
      "\n",
      " [[50. 50. 50. ... 50. 50. 50.]\n",
      "  [50. 50. 50. ... 50. 50. 50.]\n",
      "  [50. 50. 50. ... 50. 50. 50.]\n",
      "  ...\n",
      "  [50. 50. 50. ... 50. 50. 50.]\n",
      "  [50. 50. 50. ... 50. 50. 50.]\n",
      "  [50. 50. 50. ... 50. 50. 50.]]]\n"
     ]
    }
   ],
   "source": [
    "TEST_1 = P[..., np.newaxis, np.newaxis]*k\n",
    "print(f'Shape TEST_1: {TEST_1.shape}')\n",
    "print(f'Next array should contain all 0')\n",
    "print(TEST_1[..., 0, 0])\n",
    "print(f'Next array should contain all 0')\n",
    "print(TEST_1[..., 0, 1])\n",
    "\n",
    "print(f'Next array should contain all 1')\n",
    "print(TEST_1[..., 1, 0])\n",
    "print(f'Next array should contain all 10')\n",
    "print(TEST_1[..., 1, 1])\n",
    "\n",
    "print(f'Next array should contain all 5')\n",
    "print(TEST_1[..., 5, 0])\n",
    "print(f'Next array should contain all 50')\n",
    "print(TEST_1[..., 5, 1])\n"
   ]
  }
 ],
 "metadata": {
  "kernelspec": {
   "display_name": "Python 3",
   "language": "python",
   "name": "python3"
  },
  "language_info": {
   "codemirror_mode": {
    "name": "ipython",
    "version": 3
   },
   "file_extension": ".py",
   "mimetype": "text/x-python",
   "name": "python",
   "nbconvert_exporter": "python",
   "pygments_lexer": "ipython3",
   "version": "3.7.3"
  }
 },
 "nbformat": 4,
 "nbformat_minor": 2
}
