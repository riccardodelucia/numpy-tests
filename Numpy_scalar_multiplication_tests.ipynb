{
 "cells": [
  {
   "cell_type": "markdown",
   "metadata": {},
   "source": [
    "# NumPy scalar multiplication tests"
   ]
  },
  {
   "cell_type": "code",
   "execution_count": 6,
   "metadata": {},
   "outputs": [],
   "source": [
    "import numpy as np"
   ]
  },
  {
   "cell_type": "markdown",
   "metadata": {},
   "source": [
    "## Scalar multiplication\n",
    "In numpy il prodotto scalare tra **A** e **B** varia a seconda delle dimensioni di **A** e **B**\n",
    "\n",
    "Poichè non si parla di prodotto elemento per elemento <a style=\"color:red\"> per il prodotto scalare non esiste il concetto di <b>broadcasting</b> </a>\n",
    "\n",
    "Il prodotto riga colonna è da considerarsi come: \n",
    "1. riga=penultima dimensione di **A**\n",
    "1. colonna=ultima dimensione di **b**"
   ]
  },
  {
   "cell_type": "markdown",
   "metadata": {},
   "source": [
    "### A(2, 2) \n",
    "### b(2,)\n",
    "<div class=\"alert alert-block alert-success\">\n",
    "    <b>Prodotto scalare OK</b>\n",
    "</div>"
   ]
  },
  {
   "cell_type": "code",
   "execution_count": 41,
   "metadata": {},
   "outputs": [
    {
     "name": "stdout",
     "output_type": "stream",
     "text": [
      "Shape A: (2, 2)\n",
      "Shape b: (2,)\n",
      "Shape c: (2,)\n",
      "c=[ 6 14]\n"
     ]
    }
   ],
   "source": [
    "A = np.array([[1,2], [3,4]])\n",
    "b = np.array([2, 2])\n",
    "\n",
    "print(f'Shape A: {A.shape}')\n",
    "print(f'Shape b: {b.shape}')\n",
    "\n",
    "c=A@b\n",
    "print(f'Shape c: {c.shape}')\n",
    "print(f'c={c}')"
   ]
  },
  {
   "cell_type": "markdown",
   "metadata": {},
   "source": [
    "### A(2, 2)\n",
    "### b(1, 2)\n",
    "<div class=\"alert alert-block alert-danger\">\n",
    "<b>Prodotto scalare FALLISCE</b> <br> A(2x2) B(1x2) le dimensioni interne non coincidono\n",
    "</div>"
   ]
  },
  {
   "cell_type": "code",
   "execution_count": 40,
   "metadata": {},
   "outputs": [
    {
     "name": "stdout",
     "output_type": "stream",
     "text": [
      "Shape A: (2, 2)\n",
      "Shape b: (1, 2)\n"
     ]
    },
    {
     "ename": "ValueError",
     "evalue": "matmul: Input operand 1 has a mismatch in its core dimension 0, with gufunc signature (n?,k),(k,m?)->(n?,m?) (size 1 is different from 2)",
     "output_type": "error",
     "traceback": [
      "\u001b[0;31m---------------------------------------------------------------------------\u001b[0m",
      "\u001b[0;31mValueError\u001b[0m                                Traceback (most recent call last)",
      "\u001b[0;32m<ipython-input-40-2b24beba2f16>\u001b[0m in \u001b[0;36m<module>\u001b[0;34m\u001b[0m\n\u001b[1;32m      4\u001b[0m \u001b[0mprint\u001b[0m\u001b[0;34m(\u001b[0m\u001b[0;34mf'Shape A: {A.shape}'\u001b[0m\u001b[0;34m)\u001b[0m\u001b[0;34m\u001b[0m\u001b[0;34m\u001b[0m\u001b[0m\n\u001b[1;32m      5\u001b[0m \u001b[0mprint\u001b[0m\u001b[0;34m(\u001b[0m\u001b[0;34mf'Shape b: {b.shape}'\u001b[0m\u001b[0;34m)\u001b[0m\u001b[0;34m\u001b[0m\u001b[0;34m\u001b[0m\u001b[0m\n\u001b[0;32m----> 6\u001b[0;31m \u001b[0mc\u001b[0m\u001b[0;34m=\u001b[0m\u001b[0mA\u001b[0m\u001b[0;34m@\u001b[0m\u001b[0mb\u001b[0m\u001b[0;34m\u001b[0m\u001b[0;34m\u001b[0m\u001b[0m\n\u001b[0m\u001b[1;32m      7\u001b[0m \u001b[0mprint\u001b[0m\u001b[0;34m(\u001b[0m\u001b[0;34mf'Shape c: {c.shape}'\u001b[0m\u001b[0;34m)\u001b[0m\u001b[0;34m\u001b[0m\u001b[0;34m\u001b[0m\u001b[0m\n\u001b[1;32m      8\u001b[0m \u001b[0mprint\u001b[0m\u001b[0;34m(\u001b[0m\u001b[0;34mf'c={c}'\u001b[0m\u001b[0;34m)\u001b[0m\u001b[0;34m\u001b[0m\u001b[0;34m\u001b[0m\u001b[0m\n",
      "\u001b[0;31mValueError\u001b[0m: matmul: Input operand 1 has a mismatch in its core dimension 0, with gufunc signature (n?,k),(k,m?)->(n?,m?) (size 1 is different from 2)"
     ]
    }
   ],
   "source": [
    "A = np.array([[1,2], [3,4]])\n",
    "b = np.array([[2, 2]])\n",
    "\n",
    "print(f'Shape A: {A.shape}')\n",
    "print(f'Shape b: {b.shape}')\n",
    "c=A@b\n",
    "print(f'Shape c: {c.shape}')\n",
    "print(f'c={c}')"
   ]
  },
  {
   "cell_type": "markdown",
   "metadata": {},
   "source": [
    "### A(2, 2)\n",
    "### b(2, 1)\n",
    "<div class=\"alert alert-block alert-success\">\n",
    "    <b>Prodotto scalare OK</b>\n",
    "    <br>\n",
    "    A(2x2) B(2x1) le dimensioni interne sono compatibili\n",
    "    <br>\n",
    "    Viene ritornato un vettore colonna\n",
    "</div>"
   ]
  },
  {
   "cell_type": "code",
   "execution_count": 39,
   "metadata": {},
   "outputs": [
    {
     "name": "stdout",
     "output_type": "stream",
     "text": [
      "Shape A: (2, 2)\n",
      "Shape b: (2, 1)\n",
      "Shape c: (2, 1)\n",
      "c=[[ 6]\n",
      " [14]]\n"
     ]
    }
   ],
   "source": [
    "A = np.array([[1,2], [3,4]])\n",
    "b = np.array([[2],[2]])\n",
    "\n",
    "print(f'Shape A: {A.shape}')\n",
    "print(f'Shape b: {b.shape}')\n",
    "\n",
    "c = A@b\n",
    "print(f'Shape c: {c.shape}')\n",
    "print(f'c={c}')"
   ]
  },
  {
   "cell_type": "markdown",
   "metadata": {},
   "source": [
    "### A(2, 3)\n",
    "### B(2,)\n",
    "<div class=\"alert alert-block alert-danger\">\n",
    "<b>Prodotto scalare FALLISCE</b> <br> A(2x2) B(2,) le dimensioni interne non coincidono\n",
    "</div>"
   ]
  },
  {
   "cell_type": "code",
   "execution_count": 38,
   "metadata": {},
   "outputs": [
    {
     "name": "stdout",
     "output_type": "stream",
     "text": [
      "Shape A: (2, 3)\n",
      "Shape b: (2,)\n"
     ]
    },
    {
     "ename": "ValueError",
     "evalue": "matmul: Input operand 1 has a mismatch in its core dimension 0, with gufunc signature (n?,k),(k,m?)->(n?,m?) (size 2 is different from 3)",
     "output_type": "error",
     "traceback": [
      "\u001b[0;31m---------------------------------------------------------------------------\u001b[0m",
      "\u001b[0;31mValueError\u001b[0m                                Traceback (most recent call last)",
      "\u001b[0;32m<ipython-input-38-6e0d445030dd>\u001b[0m in \u001b[0;36m<module>\u001b[0;34m\u001b[0m\n\u001b[1;32m      5\u001b[0m \u001b[0mprint\u001b[0m\u001b[0;34m(\u001b[0m\u001b[0;34mf'Shape b: {b.shape}'\u001b[0m\u001b[0;34m)\u001b[0m\u001b[0;34m\u001b[0m\u001b[0;34m\u001b[0m\u001b[0m\n\u001b[1;32m      6\u001b[0m \u001b[0;34m\u001b[0m\u001b[0m\n\u001b[0;32m----> 7\u001b[0;31m \u001b[0mc\u001b[0m \u001b[0;34m=\u001b[0m \u001b[0mA\u001b[0m\u001b[0;34m@\u001b[0m\u001b[0mb\u001b[0m\u001b[0;34m\u001b[0m\u001b[0;34m\u001b[0m\u001b[0m\n\u001b[0m\u001b[1;32m      8\u001b[0m \u001b[0mprint\u001b[0m\u001b[0;34m(\u001b[0m\u001b[0;34mf'Shape c: {c.shape}'\u001b[0m\u001b[0;34m)\u001b[0m\u001b[0;34m\u001b[0m\u001b[0;34m\u001b[0m\u001b[0m\n\u001b[1;32m      9\u001b[0m \u001b[0mprint\u001b[0m\u001b[0;34m(\u001b[0m\u001b[0;34mf'c={c}'\u001b[0m\u001b[0;34m)\u001b[0m\u001b[0;34m\u001b[0m\u001b[0;34m\u001b[0m\u001b[0m\n",
      "\u001b[0;31mValueError\u001b[0m: matmul: Input operand 1 has a mismatch in its core dimension 0, with gufunc signature (n?,k),(k,m?)->(n?,m?) (size 2 is different from 3)"
     ]
    }
   ],
   "source": [
    "A = np.array([[1, 2, 3], [4, 5, 6]])\n",
    "b = np.array([1, 1])\n",
    "\n",
    "print(f'Shape A: {A.shape}')\n",
    "print(f'Shape b: {b.shape}')\n",
    "\n",
    "c = A@b\n",
    "print(f'Shape c: {c.shape}')\n",
    "print(f'c={c}')"
   ]
  },
  {
   "cell_type": "markdown",
   "metadata": {},
   "source": [
    "### A(2, 3)\n",
    "### B(3, 2)\n",
    "<div class=\"alert alert-block alert-success\">\n",
    "    <b>Prodotto scalare OK</b>\n",
    "    <br>\n",
    "    A(2x2) B(2x2) le dimensioni interne sono compatibili\n",
    "    <br>\n",
    "    Viene ritornato un vettore (2x2)\n",
    "</div>"
   ]
  },
  {
   "cell_type": "code",
   "execution_count": 37,
   "metadata": {},
   "outputs": [
    {
     "name": "stdout",
     "output_type": "stream",
     "text": [
      "Shape A: (2, 3)\n",
      "Shape B: (3, 2)\n",
      "Shape C: (2, 2)\n",
      "C=[[22 28]\n",
      " [49 64]]\n"
     ]
    }
   ],
   "source": [
    "A = np.array([[1, 2, 3], [4, 5, 6]])\n",
    "B = np.array([[1, 2], [3, 4], [5, 6]])\n",
    "\n",
    "print(f'Shape A: {A.shape}')\n",
    "print(f'Shape B: {B.shape}')\n",
    "\n",
    "C = A@B\n",
    "print(f'Shape C: {C.shape}')\n",
    "print(f'C={C}')"
   ]
  },
  {
   "cell_type": "markdown",
   "metadata": {},
   "source": [
    "### Test caso complesso 1\n",
    "#### A(2, 362, 200)\n",
    "#### b(200,)\n",
    "Obbiettivo: prodotto scalare tra matrice **A** e vettore **b**.\n",
    "<br>\n",
    "Il risultato è una matrice 2x362\n",
    "<div class=\"alert alert-block alert-info\">\n",
    "    <b>Nota:</b> Tutti i valori del vettore <b>A</b> risentono del prodotto scalare\n",
    "</div>"
   ]
  },
  {
   "cell_type": "code",
   "execution_count": 47,
   "metadata": {},
   "outputs": [
    {
     "name": "stdout",
     "output_type": "stream",
     "text": [
      "Shape A: (2, 362, 200)\n",
      "Shape b: (200,)\n",
      "Shape C: (2, 362)\n",
      "C = [[200. 200. 200. 200. 200. 200. 200. 200. 200. 200. 200. 200. 200. 200.\n",
      "  200. 200. 200. 200. 200. 200. 200. 200. 200. 200. 200. 200. 200. 200.\n",
      "  200. 200. 200. 200. 200. 200. 200. 200. 200. 200. 200. 200. 200. 200.\n",
      "  200. 200. 200. 200. 200. 200. 200. 200. 200. 200. 200. 200. 200. 200.\n",
      "  200. 200. 200. 200. 200. 200. 200. 200. 200. 200. 200. 200. 200. 200.\n",
      "  200. 200. 200. 200. 200. 200. 200. 200. 200. 200. 200. 200. 200. 200.\n",
      "  200. 200. 200. 200. 200. 200. 200. 200. 200. 200. 200. 200. 200. 200.\n",
      "  200. 200. 200. 200. 200. 200. 200. 200. 200. 200. 200. 200. 200. 200.\n",
      "  200. 200. 200. 200. 200. 200. 200. 200. 200. 200. 200. 200. 200. 200.\n",
      "  200. 200. 200. 200. 200. 200. 200. 200. 200. 200. 200. 200. 200. 200.\n",
      "  200. 200. 200. 200. 200. 200. 200. 200. 200. 200. 200. 200. 200. 200.\n",
      "  200. 200. 200. 200. 200. 200. 200. 200. 200. 200. 200. 200. 200. 200.\n",
      "  200. 200. 200. 200. 200. 200. 200. 200. 200. 200. 200. 200. 200. 200.\n",
      "  200. 200. 200. 200. 200. 200. 200. 200. 200. 200. 200. 200. 200. 200.\n",
      "  200. 200. 200. 200. 200. 200. 200. 200. 200. 200. 200. 200. 200. 200.\n",
      "  200. 200. 200. 200. 200. 200. 200. 200. 200. 200. 200. 200. 200. 200.\n",
      "  200. 200. 200. 200. 200. 200. 200. 200. 200. 200. 200. 200. 200. 200.\n",
      "  200. 200. 200. 200. 200. 200. 200. 200. 200. 200. 200. 200. 200. 200.\n",
      "  200. 200. 200. 200. 200. 200. 200. 200. 200. 200. 200. 200. 200. 200.\n",
      "  200. 200. 200. 200. 200. 200. 200. 200. 200. 200. 200. 200. 200. 200.\n",
      "  200. 200. 200. 200. 200. 200. 200. 200. 200. 200. 200. 200. 200. 200.\n",
      "  200. 200. 200. 200. 200. 200. 200. 200. 200. 200. 200. 200. 200. 200.\n",
      "  200. 200. 200. 200. 200. 200. 200. 200. 200. 200. 200. 200. 200. 200.\n",
      "  200. 200. 200. 200. 200. 200. 200. 200. 200. 200. 200. 200. 200. 200.\n",
      "  200. 200. 200. 200. 200. 200. 200. 200. 200. 200. 200. 200. 200. 200.\n",
      "  200. 200. 200. 200. 200. 200. 200. 200. 200. 200. 200. 200.]\n",
      " [200. 200. 200. 200. 200. 200. 200. 200. 200. 200. 200. 200. 200. 200.\n",
      "  200. 200. 200. 200. 200. 200. 200. 200. 200. 200. 200. 200. 200. 200.\n",
      "  200. 200. 200. 200. 200. 200. 200. 200. 200. 200. 200. 200. 200. 200.\n",
      "  200. 200. 200. 200. 200. 200. 200. 200. 200. 200. 200. 200. 200. 200.\n",
      "  200. 200. 200. 200. 200. 200. 200. 200. 200. 200. 200. 200. 200. 200.\n",
      "  200. 200. 200. 200. 200. 200. 200. 200. 200. 200. 200. 200. 200. 200.\n",
      "  200. 200. 200. 200. 200. 200. 200. 200. 200. 200. 200. 200. 200. 200.\n",
      "  200. 200. 200. 200. 200. 200. 200. 200. 200. 200. 200. 200. 200. 200.\n",
      "  200. 200. 200. 200. 200. 200. 200. 200. 200. 200. 200. 200. 200. 200.\n",
      "  200. 200. 200. 200. 200. 200. 200. 200. 200. 200. 200. 200. 200. 200.\n",
      "  200. 200. 200. 200. 200. 200. 200. 200. 200. 200. 200. 200. 200. 200.\n",
      "  200. 200. 200. 200. 200. 200. 200. 200. 200. 200. 200. 200. 200. 200.\n",
      "  200. 200. 200. 200. 200. 200. 200. 200. 200. 200. 200. 200. 200. 200.\n",
      "  200. 200. 200. 200. 200. 200. 200. 200. 200. 200. 200. 200. 200. 200.\n",
      "  200. 200. 200. 200. 200. 200. 200. 200. 200. 200. 200. 200. 200. 200.\n",
      "  200. 200. 200. 200. 200. 200. 200. 200. 200. 200. 200. 200. 200. 200.\n",
      "  200. 200. 200. 200. 200. 200. 200. 200. 200. 200. 200. 200. 200. 200.\n",
      "  200. 200. 200. 200. 200. 200. 200. 200. 200. 200. 200. 200. 200. 200.\n",
      "  200. 200. 200. 200. 200. 200. 200. 200. 200. 200. 200. 200. 200. 200.\n",
      "  200. 200. 200. 200. 200. 200. 200. 200. 200. 200. 200. 200. 200. 200.\n",
      "  200. 200. 200. 200. 200. 200. 200. 200. 200. 200. 200. 200. 200. 200.\n",
      "  200. 200. 200. 200. 200. 200. 200. 200. 200. 200. 200. 200. 200. 200.\n",
      "  200. 200. 200. 200. 200. 200. 200. 200. 200. 200. 200. 200. 200. 200.\n",
      "  200. 200. 200. 200. 200. 200. 200. 200. 200. 200. 200. 200. 200. 200.\n",
      "  200. 200. 200. 200. 200. 200. 200. 200. 200. 200. 200. 200. 200. 200.\n",
      "  200. 200. 200. 200. 200. 200. 200. 200. 200. 200. 200. 200.]]\n"
     ]
    }
   ],
   "source": [
    "A = np.ones((2, 362, 200))\n",
    "b = np.ones(200)\n",
    "print(f'Shape A: {A.shape}')\n",
    "print(f'Shape b: {b.shape}')\n",
    "\n",
    "C = A@b\n",
    "print(f'Shape C: {C.shape}')\n",
    "print(f'C = {C}')"
   ]
  },
  {
   "cell_type": "markdown",
   "metadata": {},
   "source": [
    "### Test caso complesso 2\n",
    "#### A(2, 362, 200)\n",
    "#### B(200, 400)\n",
    "Obbiettivo: prodotto scalare tra matrice **A** e vettore **B**.\n",
    "<br>\n",
    "Il risultato è una matrice 2x362x400\n",
    "<div class=\"alert alert-block alert-info\">\n",
    "    <b>Nota:</b> Tutti i valori del vettore <b>A</b> risentono del prodotto scalare\n",
    "</div>"
   ]
  },
  {
   "cell_type": "code",
   "execution_count": 46,
   "metadata": {},
   "outputs": [
    {
     "name": "stdout",
     "output_type": "stream",
     "text": [
      "Shape A: (2, 362, 200)\n",
      "Shape B: (200, 400)\n",
      "Shape C: (2, 362, 400)\n",
      "C = [[[200. 200. 200. ... 200. 200. 200.]\n",
      "  [200. 200. 200. ... 200. 200. 200.]\n",
      "  [200. 200. 200. ... 200. 200. 200.]\n",
      "  ...\n",
      "  [200. 200. 200. ... 200. 200. 200.]\n",
      "  [200. 200. 200. ... 200. 200. 200.]\n",
      "  [200. 200. 200. ... 200. 200. 200.]]\n",
      "\n",
      " [[200. 200. 200. ... 200. 200. 200.]\n",
      "  [200. 200. 200. ... 200. 200. 200.]\n",
      "  [200. 200. 200. ... 200. 200. 200.]\n",
      "  ...\n",
      "  [200. 200. 200. ... 200. 200. 200.]\n",
      "  [200. 200. 200. ... 200. 200. 200.]\n",
      "  [200. 200. 200. ... 200. 200. 200.]]]\n"
     ]
    }
   ],
   "source": [
    "A = np.ones((2, 362, 200))\n",
    "B = np.ones((200, 400))\n",
    "print(f'Shape A: {A.shape}')\n",
    "print(f'Shape B: {B.shape}')\n",
    "\n",
    "C = A@B\n",
    "print(f'Shape C: {C.shape}')\n",
    "print(f'C = {C}')"
   ]
  },
  {
   "cell_type": "code",
   "execution_count": null,
   "metadata": {},
   "outputs": [],
   "source": []
  }
 ],
 "metadata": {
  "kernelspec": {
   "display_name": "Python 3",
   "language": "python",
   "name": "python3"
  },
  "language_info": {
   "codemirror_mode": {
    "name": "ipython",
    "version": 3
   },
   "file_extension": ".py",
   "mimetype": "text/x-python",
   "name": "python",
   "nbconvert_exporter": "python",
   "pygments_lexer": "ipython3",
   "version": "3.7.3"
  }
 },
 "nbformat": 4,
 "nbformat_minor": 2
}
